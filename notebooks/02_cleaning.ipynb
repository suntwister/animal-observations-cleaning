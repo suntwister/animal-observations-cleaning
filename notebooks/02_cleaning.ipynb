{
 "cells": [
  {
   "cell_type": "code",
   "execution_count": 8,
   "id": "7f409df2",
   "metadata": {},
   "outputs": [],
   "source": [
    "import pandas as pd"
   ]
  },
  {
   "cell_type": "code",
   "execution_count": 2,
   "id": "29a777c2",
   "metadata": {},
   "outputs": [],
   "source": [
    "df = pd.read_csv(\"../data/raw/wildlife_clean.csv\")"
   ]
  },
  {
   "cell_type": "code",
   "execution_count": 3,
   "id": "e89575c7",
   "metadata": {},
   "outputs": [
    {
     "name": "stdout",
     "output_type": "stream",
     "text": [
      "       Animal type Country  Weight kg  Body Length cm          Gender  \\\n",
      "0   European bison  Poland      930.0           335.0            male   \n",
      "1   European bison  Poland      909.0           311.0  not determined   \n",
      "2  European bison™  Poland      581.0           277.0          female   \n",
      "3  European bisson  Poland      900.0           295.0            male   \n",
      "4  European buster  Poland      620.0           250.0          female   \n",
      "\n",
      "   Animal code   Latitude  Longitude Animal name Observation date  \\\n",
      "0          NaN  52.828845  23.820144       Szefu       2024-03-01   \n",
      "1          NaN  52.830509  23.826849         NaN       2024-03-01   \n",
      "2          NaN  52.834109  23.807093         NaN       2024-03-01   \n",
      "3          NaN  52.834759  23.817201         NaN       2024-03-01   \n",
      "4          NaN  52.834960  23.820750         NaN       2024-03-01   \n",
      "\n",
      "  Data compiled by  \n",
      "0     Anne Anthony  \n",
      "1     Anne Anthony  \n",
      "2     Anne Anthony  \n",
      "3     Anne Anthony  \n",
      "4     Anne Anthony  \n"
     ]
    }
   ],
   "source": [
    "print(df.head())"
   ]
  },
  {
   "cell_type": "code",
   "execution_count": null,
   "id": "ef6e1243",
   "metadata": {},
   "outputs": [
    {
     "data": {
      "text/plain": [
       "array(['Szefu', nan, 'Basia', 'Lolek', 'Lola', 'Bob Bobson', 'Klucha',\n",
       "       'Zuzia', 'Bibi', 'Sissi', 'Puchatek'], dtype=object)"
      ]
     },
     "execution_count": 9,
     "metadata": {},
     "output_type": "execute_result"
    }
   ],
   "source": [
    "df_cleaning = df.copy()"
   ]
  },
  {
   "cell_type": "code",
   "execution_count": null,
   "id": "217d7e1a",
   "metadata": {},
   "outputs": [],
   "source": [
    "# We drop Animal code (too many missing values)\n",
    "df_cleaning = df_cleaning.drop(columns=['Animal code'])"
   ]
  },
  {
   "cell_type": "code",
   "execution_count": null,
   "id": "5bf08488",
   "metadata": {},
   "outputs": [
    {
     "data": {
      "text/plain": [
       "np.int64(957)"
      ]
     },
     "execution_count": 14,
     "metadata": {},
     "output_type": "execute_result"
    }
   ],
   "source": [
    "df_cleaning['Animal name'].isna().sum()"
   ]
  },
  {
   "cell_type": "code",
   "execution_count": null,
   "id": "8b3b481d",
   "metadata": {},
   "outputs": [],
   "source": [
    "# Since >90% missing, it’s not reliable.\n",
    "df_cleaning = df_cleaning.drop(columns=['Animal name'])"
   ]
  },
  {
   "cell_type": "code",
   "execution_count": null,
   "id": "626467cd",
   "metadata": {},
   "outputs": [],
   "source": []
  }
 ],
 "metadata": {
  "kernelspec": {
   "display_name": "Python 3",
   "language": "python",
   "name": "python3"
  },
  "language_info": {
   "codemirror_mode": {
    "name": "ipython",
    "version": 3
   },
   "file_extension": ".py",
   "mimetype": "text/x-python",
   "name": "python",
   "nbconvert_exporter": "python",
   "pygments_lexer": "ipython3",
   "version": "3.13.5"
  }
 },
 "nbformat": 4,
 "nbformat_minor": 5
}
