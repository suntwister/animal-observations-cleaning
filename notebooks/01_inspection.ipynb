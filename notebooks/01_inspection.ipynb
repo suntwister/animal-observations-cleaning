{
 "cells": [
  {
   "cell_type": "code",
   "execution_count": 1,
   "id": "feeade2c",
   "metadata": {},
   "outputs": [],
   "source": [
    "import pandas as pd\n",
    "import numpy as np"
   ]
  },
  {
   "cell_type": "code",
   "execution_count": 3,
   "id": "7f4d8ccc",
   "metadata": {},
   "outputs": [],
   "source": [
    "df = pd.read_csv(\"../data/raw/dirty_data.csv\")"
   ]
  },
  {
   "cell_type": "code",
   "execution_count": 4,
   "id": "19cd5302",
   "metadata": {},
   "outputs": [
    {
     "name": "stdout",
     "output_type": "stream",
     "text": [
      "(1011, 1)\n"
     ]
    }
   ],
   "source": [
    "print(df.shape)"
   ]
  },
  {
   "cell_type": "code",
   "execution_count": 5,
   "id": "24aba680",
   "metadata": {},
   "outputs": [
    {
     "data": {
      "text/plain": [
       "<bound method NDFrame.head of      Animal type;Country;Weight kg;Body Length cm;Gender;Animal code;Latitude;Longitude;Animal name;Observation date;Data compiled by\n",
       "0                     ;;;;;;;;;03.01.2024;James Johnson                                                                              \n",
       "1                     ;;;;;;;;;03.02.2024;James Johnson                                                                              \n",
       "2     European bison;Poland;930;335;male;;52.828845;...                                                                              \n",
       "3     European bison;Poland;909;311;not determined;;...                                                                              \n",
       "4     European bison™;Poland;581;277;female;;52.8341...                                                                              \n",
       "...                                                 ...                                                                              \n",
       "1006  red squirrel;Poland;0.346;20;female;;52.212001...                                                                              \n",
       "1007  hedgehog;Germany;1;23;female;;49.561356;11.105...                                                                              \n",
       "1008  hedgehog;Germany;0.5;17;female;;49.561569;11.0...                                                                              \n",
       "1009  red squirrel;Poland;0.346;20;female;;52.212001...                                                                              \n",
       "1010  hedgehog;Hungary;0.9;16;female;;47.509860;18.9...                                                                              \n",
       "\n",
       "[1011 rows x 1 columns]>"
      ]
     },
     "execution_count": 5,
     "metadata": {},
     "output_type": "execute_result"
    }
   ],
   "source": [
    "df.head"
   ]
  },
  {
   "cell_type": "code",
   "execution_count": 6,
   "id": "9c9a7d08",
   "metadata": {},
   "outputs": [],
   "source": [
    "df = pd.read_csv(\"../data/raw/dirty_data.csv\", sep=\";\")"
   ]
  },
  {
   "cell_type": "code",
   "execution_count": 8,
   "id": "bf6fde34",
   "metadata": {},
   "outputs": [
    {
     "name": "stdout",
     "output_type": "stream",
     "text": [
      "(1011, 11)\n"
     ]
    }
   ],
   "source": [
    "print(df.shape)"
   ]
  },
  {
   "cell_type": "code",
   "execution_count": 9,
   "id": "e544d1b3",
   "metadata": {},
   "outputs": [
    {
     "name": "stdout",
     "output_type": "stream",
     "text": [
      "       Animal type Country  Weight kg  Body Length cm          Gender  \\\n",
      "0              NaN     NaN        NaN             NaN             NaN   \n",
      "1              NaN     NaN        NaN             NaN             NaN   \n",
      "2   European bison  Poland      930.0           335.0            male   \n",
      "3   European bison  Poland      909.0           311.0  not determined   \n",
      "4  European bison™  Poland      581.0           277.0          female   \n",
      "\n",
      "   Animal code   Latitude  Longitude Animal name Observation date  \\\n",
      "0          NaN        NaN        NaN         NaN       03.01.2024   \n",
      "1          NaN        NaN        NaN         NaN       03.02.2024   \n",
      "2          NaN  52.828845  23.820144       Szefu       01.03.2024   \n",
      "3          NaN  52.830509  23.826849         NaN       01.03.2024   \n",
      "4          NaN  52.834109  23.807093         NaN       01.03.2024   \n",
      "\n",
      "  Data compiled by  \n",
      "0    James Johnson  \n",
      "1    James Johnson  \n",
      "2     Anne Anthony  \n",
      "3     Anne Anthony  \n",
      "4     Anne Anthony  \n"
     ]
    }
   ],
   "source": [
    "print(df.head())"
   ]
  },
  {
   "cell_type": "code",
   "execution_count": 10,
   "id": "f0000cc2",
   "metadata": {},
   "outputs": [],
   "source": [
    "df = df.drop([0,1]).reset_index(drop=True)"
   ]
  },
  {
   "cell_type": "code",
   "execution_count": 14,
   "id": "fb46f5be",
   "metadata": {},
   "outputs": [
    {
     "name": "stdout",
     "output_type": "stream",
     "text": [
      "new df shape: (1009, 11)\n",
      "       Animal type Country  Weight kg  Body Length cm          Gender  \\\n",
      "0   European bison  Poland      930.0           335.0            male   \n",
      "1   European bison  Poland      909.0           311.0  not determined   \n",
      "2  European bison™  Poland      581.0           277.0          female   \n",
      "3  European bisson  Poland      900.0           295.0            male   \n",
      "4  European buster  Poland      620.0           250.0          female   \n",
      "\n",
      "   Animal code   Latitude  Longitude Animal name Observation date  \\\n",
      "0          NaN  52.828845  23.820144       Szefu       01.03.2024   \n",
      "1          NaN  52.830509  23.826849         NaN       01.03.2024   \n",
      "2          NaN  52.834109  23.807093         NaN       01.03.2024   \n",
      "3          NaN  52.834759  23.817201         NaN       01.03.2024   \n",
      "4          NaN  52.834960  23.820750         NaN       01.03.2024   \n",
      "\n",
      "  Data compiled by  \n",
      "0     Anne Anthony  \n",
      "1     Anne Anthony  \n",
      "2     Anne Anthony  \n",
      "3     Anne Anthony  \n",
      "4     Anne Anthony  \n"
     ]
    }
   ],
   "source": [
    "print(\"new df shape:\", df.shape)\n",
    "print(df.head())"
   ]
  },
  {
   "cell_type": "code",
   "execution_count": 20,
   "id": "fbc9b61c",
   "metadata": {},
   "outputs": [
    {
     "data": {
      "text/plain": [
       "Animal type           18\n",
       "Country               10\n",
       "Weight kg             25\n",
       "Body Length cm        25\n",
       "Gender                17\n",
       "Animal code         1009\n",
       "Latitude              96\n",
       "Longitude             96\n",
       "Animal name          957\n",
       "Observation date       0\n",
       "Data compiled by       0\n",
       "dtype: int64"
      ]
     },
     "execution_count": 20,
     "metadata": {},
     "output_type": "execute_result"
    }
   ],
   "source": [
    "df.isnull().sum()"
   ]
  },
  {
   "cell_type": "code",
   "execution_count": 22,
   "id": "ef3adbb8",
   "metadata": {},
   "outputs": [
    {
     "name": "stdout",
     "output_type": "stream",
     "text": [
      "['European bison' 'European bison™' 'European bisson' 'European buster'\n",
      " 'lynx' 'lynx?' 'red squirel' 'red squirrel' 'red squirrell' 'hedgehog'\n",
      " 'wedgehod' nan 'ledgehod']\n",
      "------------------------------------------\n",
      "['Poland' 'Hungary' 'PL' 'Germany' 'Slovakia' 'Czech Republic' 'Czech'\n",
      " 'Hungry' nan 'HU' 'Austria' 'Australia' 'CZ' 'DE' 'CC']\n",
      "------------------------------------------\n",
      "['male' 'not determined' 'female' nan]\n"
     ]
    }
   ],
   "source": [
    "print(df['Animal type'].unique())\n",
    "print(\"------------------------------------------\")\n",
    "print(df['Country'].unique())\n",
    "print(\"------------------------------------------\")\n",
    "print(df['Gender'].unique())"
   ]
  },
  {
   "cell_type": "code",
   "execution_count": 25,
   "id": "c134a7f3",
   "metadata": {},
   "outputs": [
    {
     "data": {
      "text/plain": [
       "0      2024-03-01\n",
       "1      2024-03-01\n",
       "2      2024-03-01\n",
       "3      2024-03-01\n",
       "4      2024-03-01\n",
       "          ...    \n",
       "1004          NaT\n",
       "1005          NaT\n",
       "1006          NaT\n",
       "1007          NaT\n",
       "1008          NaT\n",
       "Name: Observation date, Length: 1009, dtype: datetime64[ns]"
      ]
     },
     "execution_count": 25,
     "metadata": {},
     "output_type": "execute_result"
    }
   ],
   "source": [
    "df['Observation date'] = pd.to_datetime(df['Observation date'], format=\"%d.%m.%Y\", errors=\"coerce\")\n",
    "df['Observation date']"
   ]
  },
  {
   "cell_type": "code",
   "execution_count": null,
   "id": "f03bdac2",
   "metadata": {},
   "outputs": [
    {
     "name": "stdout",
     "output_type": "stream",
     "text": [
      "43\n"
     ]
    }
   ],
   "source": [
    "print(df['Observation date'].isna().sum())"
   ]
  },
  {
   "cell_type": "code",
   "execution_count": 35,
   "id": "68e93d8c",
   "metadata": {},
   "outputs": [
    {
     "data": {
      "text/plain": [
       "Animal type                 object\n",
       "Country                     object\n",
       "Weight kg                  float64\n",
       "Body Length cm             float64\n",
       "Gender                      object\n",
       "Animal code                float64\n",
       "Latitude                   float64\n",
       "Longitude                  float64\n",
       "Animal name                 object\n",
       "Observation date    datetime64[ns]\n",
       "Data compiled by            object\n",
       "dtype: object"
      ]
     },
     "execution_count": 35,
     "metadata": {},
     "output_type": "execute_result"
    }
   ],
   "source": [
    "df.dtypes"
   ]
  },
  {
   "cell_type": "code",
   "execution_count": 41,
   "id": "643563aa",
   "metadata": {},
   "outputs": [],
   "source": [
    "df_cleaning = df.copy()\n",
    "df_cleaning.to_csv(\"../data/raw/wildlife_clean.csv\", index=False)"
   ]
  },
  {
   "cell_type": "code",
   "execution_count": null,
   "id": "d98fe7e5",
   "metadata": {},
   "outputs": [],
   "source": []
  }
 ],
 "metadata": {
  "kernelspec": {
   "display_name": "Python 3",
   "language": "python",
   "name": "python3"
  },
  "language_info": {
   "codemirror_mode": {
    "name": "ipython",
    "version": 3
   },
   "file_extension": ".py",
   "mimetype": "text/x-python",
   "name": "python",
   "nbconvert_exporter": "python",
   "pygments_lexer": "ipython3",
   "version": "3.13.5"
  }
 },
 "nbformat": 4,
 "nbformat_minor": 5
}
